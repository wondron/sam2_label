{
 "cells": [
  {
   "cell_type": "code",
   "execution_count": 2,
   "metadata": {},
   "outputs": [],
   "source": [
    "import torch, cv2\n",
    "from sam2.build_sam import build_sam2\n",
    "from sam2.sam2_image_predictor import SAM2ImagePredictor\n",
    "from PIL import Image\n",
    "import numpy as np\n",
    "\n",
    "class SAM2ImageProcessor:\n",
    "    def __init__(self, checkpoint, model_cfg, device=\"cpu\"):\n",
    "        self.predictor = SAM2ImagePredictor(build_sam2(model_cfg, checkpoint, device=device))\n",
    "\n",
    "    def process_image(self, image_data, point_coords, point_labels, multimask_output=False):\n",
    "        self.predictor.set_image(image_data)\n",
    "        masks, _, _ = self.predictor.predict(\n",
    "            point_coords=point_coords,\n",
    "            point_labels=point_labels,\n",
    "            multimask_output=multimask_output,\n",
    "        )\n",
    "        mask_array = masks[0]\n",
    "\n",
    "        print(\"point_coords: \", point_coords)\n",
    "        print(\"point_labels: \", point_labels)\n",
    "\n",
    "        # 使用OpenCV实现Halcon的fill_up功能\n",
    "        mask_uint8 = (mask_array * 255).astype(np.uint8)\n",
    "        cv2.imwrite(\"mask_uint8.bmp\", mask_uint8)\n",
    "        kernel = cv2.getStructuringElement(cv2.MORPH_ELLIPSE, (15, 15))\n",
    "        filled_image = cv2.morphologyEx(mask_uint8, cv2.MORPH_CLOSE, kernel)\n",
    "\n",
    "        # 去除面积小于500的连通域\n",
    "        num_labels, labels_im = cv2.connectedComponents(filled_image)\n",
    "        label_sizes = np.bincount(labels_im.ravel())\n",
    "        small_labels = np.where(label_sizes < 500)[0]\n",
    "        for label in small_labels:\n",
    "            filled_image[labels_im == label] = 0\n",
    "\n",
    "        # 使用Canny算子获取mask的边缘\n",
    "        edges = cv2.Canny(filled_image, 100, 200)\n",
    "\n",
    "        return edges"
   ]
  },
  {
   "cell_type": "code",
   "execution_count": 3,
   "metadata": {},
   "outputs": [
    {
     "name": "stdout",
     "output_type": "stream",
     "text": [
      "point_coords:  [[1156, 1823], [1960, 1606], [2858, 1538], [2912, 2245], [2776, 3266], [1769, 3416], [1252, 2885], [843, 2708], [639, 3661], [1538, 4246], [2341, 4437], [3375, 4015], [3675, 2014], [2028, 803], [830, 1306], [258, 1769], [3647, 1197]]\n",
      "point_labels:  [1, 1, 1, 1, 1, 1, 1, 1, -1, -1, -1, -1, -1, -1, -1, -1, -1]\n"
     ]
    },
    {
     "data": {
      "text/plain": [
       "<matplotlib.image.AxesImage at 0x2a11f220f50>"
      ]
     },
     "execution_count": 3,
     "metadata": {},
     "output_type": "execute_result"
    },
    {
     "data": {
      "image/png": "[encoded data removed]",
      "text/plain": [
       "<Figure size 640x480 with 1 Axes>"
      ]
     },
     "metadata": {},
     "output_type": "display_data"
    }
   ],
   "source": [
    "import matplotlib.pyplot as plt\n",
    "\n",
    "checkpoint = \"D:/python/sam2_label/checkpoints/sam2.1_hiera_base_plus.pt\"\n",
    "model_cfg  = \"D:/python/sam2_label/sam2/configs/sam2.1/sam2.1_hiera_b+.yaml\"\n",
    "image_path = 'E:/dataset/鲫鱼/200_00fb306e03d311f5c33830ab89f65c5b.jpg'\n",
    "image_data = Image.open(image_path)\n",
    "numpy_image = np.array(image_data)\n",
    "\n",
    "processor = SAM2ImageProcessor(checkpoint, model_cfg)\n",
    "\n",
    "contours_pts = [[1156, 1823],[1960, 1606],[2858, 1538],[2912, 2245],\n",
    "                [2776, 3266],[1769, 3416],[1252, 2885],[ 843, 2708],\n",
    "                [ 639, 3661],[1538, 4246],[2341, 4437],[3375, 4015],\n",
    "                [3675, 2014],[2028,  803],[ 830, 1306],[ 258, 1769],\n",
    "                [3647, 1197]]\n",
    "labels = [ 1,  1,  1,  1,  1,  1,  1,  1, -1, -1, -1, -1, -1, -1, -1, -1, -1,]\n",
    "\n",
    "contours = processor.process_image(image_data, point_coords=contours_pts, point_labels=labels)\n",
    "uint8_array = (contours * 255).astype(np.uint8)\n",
    "\n",
    "kernel = cv2.getStructuringElement(cv2.MORPH_RECT, (100, 100))\n",
    "filled_image = cv2.morphologyEx(uint8_array, cv2.MORPH_CLOSE, kernel)\n",
    "\n",
    "edges = cv2.Canny(filled_image, 100, 200)\n",
    "numpy_image[edges > 0] = [0, 0, 255]\n",
    "\n",
    "plt.imshow(edges, cmap='gray')"
   ]
  }
 ],
 "metadata": {
  "kernelspec": {
   "display_name": "sam",
   "language": "python",
   "name": "python3"
  },
  "language_info": {
   "codemirror_mode": {
    "name": "ipython",
    "version": 3
   },
   "file_extension": ".py",
   "mimetype": "text/x-python",
   "name": "python",
   "nbconvert_exporter": "python",
   "pygments_lexer": "ipython3",
   "version": "3.11.10"
  }
 },
 "nbformat": 4,
 "nbformat_minor": 2
}
